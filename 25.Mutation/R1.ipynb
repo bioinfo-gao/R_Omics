{
 "cells": [
  {
   "cell_type": "code",
   "execution_count": null,
   "id": "53abf344",
   "metadata": {
    "vscode": {
     "languageId": "r"
    }
   },
   "outputs": [
    {
     "ename": "",
     "evalue": "",
     "output_type": "error",
     "traceback": [
      "\u001b[1;31m无法启动 Kernel。. \n",
      "\u001b[1;31m有关更多详细信息，请查看 Jupyter <a href='command:jupyter.viewOutput'>log</a>。"
     ]
    }
   ],
   "source": [
    "library(wordcloud)\n",
    "library(maftools)"
   ]
  }
 ],
 "metadata": {
  "kernelspec": {
   "display_name": "bioR43",
   "language": "R",
   "name": "bior43"
  },
  "language_info": {
   "name": "R",
   "version": "3.14.0"
  }
 },
 "nbformat": 4,
 "nbformat_minor": 5
}
